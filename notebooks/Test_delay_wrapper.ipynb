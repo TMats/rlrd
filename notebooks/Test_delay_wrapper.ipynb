{
 "cells": [
  {
   "cell_type": "code",
   "execution_count": 1,
   "metadata": {},
   "outputs": [],
   "source": [
    "import gym\n",
    "import agents.wrappers_mod as wrappers\n",
    "import random\n",
    "import numpy as np\n",
    "import time"
   ]
  },
  {
   "cell_type": "code",
   "execution_count": 2,
   "metadata": {},
   "outputs": [],
   "source": [
    "env = gym.make(\"Pendulum-v0\")"
   ]
  },
  {
   "cell_type": "markdown",
   "metadata": {},
   "source": [
    "### Pendulum without the wrapper:"
   ]
  },
  {
   "cell_type": "code",
   "execution_count": 3,
   "metadata": {},
   "outputs": [
    {
     "data": {
      "text/plain": [
       "array([-0.35283079,  0.93568715,  0.02900014])"
      ]
     },
     "execution_count": 3,
     "metadata": {},
     "output_type": "execute_result"
    }
   ],
   "source": [
    "env.seed(1)\n",
    "env.reset()"
   ]
  },
  {
   "cell_type": "code",
   "execution_count": 4,
   "metadata": {
    "scrolled": false
   },
   "outputs": [
    {
     "data": {
      "text/plain": [
       "2.0"
      ]
     },
     "execution_count": 4,
     "metadata": {},
     "output_type": "execute_result"
    }
   ],
   "source": [
    "env.max_torque"
   ]
  },
  {
   "cell_type": "code",
   "execution_count": 5,
   "metadata": {},
   "outputs": [
    {
     "data": {
      "text/plain": [
       "True"
      ]
     },
     "execution_count": 5,
     "metadata": {},
     "output_type": "execute_result"
    }
   ],
   "source": [
    "env.render()"
   ]
  },
  {
   "cell_type": "code",
   "execution_count": 6,
   "metadata": {},
   "outputs": [
    {
     "data": {
      "text/plain": [
       "(array([-0.3874676 ,  0.92188332,  0.7457655 ]),\n",
       " -3.7303655635586375,\n",
       " False,\n",
       " {})"
      ]
     },
     "execution_count": 6,
     "metadata": {},
     "output_type": "execute_result"
    }
   ],
   "source": [
    "env.step([0.1])"
   ]
  },
  {
   "cell_type": "code",
   "execution_count": null,
   "metadata": {},
   "outputs": [],
   "source": [
    "env.render()"
   ]
  },
  {
   "cell_type": "markdown",
   "metadata": {},
   "source": [
    "### Pendulum with the wrapper:"
   ]
  },
  {
   "cell_type": "markdown",
   "metadata": {},
   "source": [
    "#### RTRL setting:"
   ]
  },
  {
   "cell_type": "code",
   "execution_count": 7,
   "metadata": {},
   "outputs": [],
   "source": [
    "wrappedenv = wrappers.RandomDelayWrapper(env,\n",
    "                                         obs_delay_range=range(0, 1),\n",
    "                                         act_delay_range=range(0, 1),\n",
    "                                         instant_rewards=True,\n",
    "                                         initial_action=None)"
   ]
  },
  {
   "cell_type": "code",
   "execution_count": 8,
   "metadata": {},
   "outputs": [
    {
     "name": "stdout",
     "output_type": "stream",
     "text": [
      "DEBUG: end of reset ---\n",
      "DEBUG: self.past_actions:deque([array([0.05800029], dtype=float32), array([1.2295617], dtype=float32)], maxlen=2)\n",
      "DEBUG: self.past_observations:deque([(array([-0.35283079,  0.93568715,  0.02900014]), 0.0, False, {}, 0)], maxlen=1)\n",
      "DEBUG: self.arrival_times_actions:deque([-1], maxlen=1)\n",
      "DEBUG: self.arrival_times_observations:deque([-1], maxlen=1)\n",
      "DEBUG: self.t:0\n",
      "DEBUG: ---\n"
     ]
    },
    {
     "data": {
      "text/plain": [
       "(array([-0.35283079,  0.93568715,  0.02900014]),\n",
       " (array([0.05800029], dtype=float32),),\n",
       " 0,\n",
       " 0)"
      ]
     },
     "execution_count": 8,
     "metadata": {},
     "output_type": "execute_result"
    }
   ],
   "source": [
    "wrappedenv.seed(1)\n",
    "random.seed(1)\n",
    "np.random.seed(1)\n",
    "wrappedenv.action_space.seed(1)\n",
    "\n",
    "wrappedenv.reset()"
   ]
  },
  {
   "cell_type": "code",
   "execution_count": 9,
   "metadata": {},
   "outputs": [
    {
     "data": {
      "text/plain": [
       "True"
      ]
     },
     "execution_count": 9,
     "metadata": {},
     "output_type": "execute_result"
    }
   ],
   "source": [
    "wrappedenv.render()"
   ]
  },
  {
   "cell_type": "code",
   "execution_count": 10,
   "metadata": {},
   "outputs": [
    {
     "name": "stdout",
     "output_type": "stream",
     "text": [
      "DEBUG: end of step ---\n",
      "DEBUG: self.past_actions:deque([[0.1], array([0.05800029], dtype=float32)], maxlen=2)\n",
      "DEBUG: self.past_observations:deque([(array([-0.35283079,  0.93568715,  0.02900014]), 0.0, False, {}, 0)], maxlen=1)\n",
      "DEBUG: self.arrival_times_actions:deque([0], maxlen=1)\n",
      "DEBUG: self.arrival_times_observations:deque([-1], maxlen=1)\n",
      "DEBUG: self.t:0\n",
      "DEBUG: ---\n"
     ]
    },
    {
     "data": {
      "text/plain": [
       "((array([-0.35283079,  0.93568715,  0.02900014]), ([0.1],), 0, 0),\n",
       " 0,\n",
       " False,\n",
       " {})"
      ]
     },
     "execution_count": 10,
     "metadata": {},
     "output_type": "execute_result"
    }
   ],
   "source": [
    "wrappedenv.step([0.1])"
   ]
  },
  {
   "cell_type": "code",
   "execution_count": 11,
   "metadata": {},
   "outputs": [
    {
     "data": {
      "text/plain": [
       "True"
      ]
     },
     "execution_count": 11,
     "metadata": {},
     "output_type": "execute_result"
    }
   ],
   "source": [
    "wrappedenv.render()"
   ]
  },
  {
   "cell_type": "code",
   "execution_count": 12,
   "metadata": {},
   "outputs": [
    {
     "name": "stdout",
     "output_type": "stream",
     "text": [
      "DEBUG: end of step ---\n",
      "DEBUG: self.past_actions:deque([[0.2], [0.1]], maxlen=2)\n",
      "DEBUG: self.past_observations:deque([(array([-0.3874676 ,  0.92188332,  0.7457655 ]), -3.7303655635586375, False, {}, 0)], maxlen=1)\n",
      "DEBUG: self.arrival_times_actions:deque([1], maxlen=1)\n",
      "DEBUG: self.arrival_times_observations:deque([1], maxlen=1)\n",
      "DEBUG: self.t:1\n",
      "DEBUG: ---\n"
     ]
    },
    {
     "data": {
      "text/plain": [
       "((array([-0.3874676 ,  0.92188332,  0.7457655 ]), ([0.2],), 0, 0),\n",
       " -3.7303655635586375,\n",
       " False,\n",
       " {})"
      ]
     },
     "execution_count": 12,
     "metadata": {},
     "output_type": "execute_result"
    }
   ],
   "source": [
    "wrappedenv.step([0.2])"
   ]
  },
  {
   "cell_type": "code",
   "execution_count": 13,
   "metadata": {},
   "outputs": [
    {
     "data": {
      "text/plain": [
       "True"
      ]
     },
     "execution_count": 13,
     "metadata": {},
     "output_type": "execute_result"
    }
   ],
   "source": [
    "wrappedenv.render()"
   ]
  },
  {
   "cell_type": "code",
   "execution_count": 14,
   "metadata": {},
   "outputs": [
    {
     "name": "stdout",
     "output_type": "stream",
     "text": [
      "DEBUG: end of step ---\n",
      "DEBUG: self.past_actions:deque([[0.3], [0.2]], maxlen=2)\n",
      "DEBUG: self.past_observations:deque([(array([-0.45399319,  0.89100515,  1.46717799]), -3.931354980049252, False, {}, 0)], maxlen=1)\n",
      "DEBUG: self.arrival_times_actions:deque([2], maxlen=1)\n",
      "DEBUG: self.arrival_times_observations:deque([2], maxlen=1)\n",
      "DEBUG: self.t:2\n",
      "DEBUG: ---\n"
     ]
    },
    {
     "data": {
      "text/plain": [
       "((array([-0.45399319,  0.89100515,  1.46717799]), ([0.3],), 0, 0),\n",
       " -3.931354980049252,\n",
       " False,\n",
       " {})"
      ]
     },
     "execution_count": 14,
     "metadata": {},
     "output_type": "execute_result"
    }
   ],
   "source": [
    "wrappedenv.step([0.3])"
   ]
  },
  {
   "cell_type": "code",
   "execution_count": 15,
   "metadata": {},
   "outputs": [
    {
     "data": {
      "text/plain": [
       "True"
      ]
     },
     "execution_count": 15,
     "metadata": {},
     "output_type": "execute_result"
    }
   ],
   "source": [
    "wrappedenv.render()"
   ]
  },
  {
   "cell_type": "markdown",
   "metadata": {},
   "source": [
    "#### Random Delays:"
   ]
  },
  {
   "cell_type": "code",
   "execution_count": 16,
   "metadata": {},
   "outputs": [],
   "source": [
    "wrappedenv = wrappers.RandomDelayWrapper(env,\n",
    "                                         obs_delay_range=range(0, 2),\n",
    "                                         act_delay_range=range(0, 2),\n",
    "                                         instant_rewards=True,\n",
    "                                         initial_action=None)"
   ]
  },
  {
   "cell_type": "code",
   "execution_count": 17,
   "metadata": {},
   "outputs": [
    {
     "name": "stdout",
     "output_type": "stream",
     "text": [
      "DEBUG: end of reset ---\n",
      "DEBUG: self.past_actions:deque([array([-1.2525009], dtype=float32), array([-1.2355274], dtype=float32), array([0.05800029], dtype=float32), array([1.2295617], dtype=float32)], maxlen=4)\n",
      "DEBUG: self.past_observations:deque([(array([-0.35283079,  0.93568715,  0.02900014]), 0.0, False, {}, 0), (array([-0.35283079,  0.93568715,  0.02900014]), 0.0, False, {}, 0)], maxlen=2)\n",
      "DEBUG: self.arrival_times_actions:deque([0, -1], maxlen=2)\n",
      "DEBUG: self.arrival_times_observations:deque([0, -1], maxlen=2)\n",
      "DEBUG: self.t:0\n",
      "DEBUG: ---\n"
     ]
    },
    {
     "data": {
      "text/plain": [
       "(array([-0.35283079,  0.93568715,  0.02900014]),\n",
       " (array([-1.2525009], dtype=float32),\n",
       "  array([-1.2355274], dtype=float32),\n",
       "  array([0.05800029], dtype=float32)),\n",
       " 0,\n",
       " 0)"
      ]
     },
     "execution_count": 17,
     "metadata": {},
     "output_type": "execute_result"
    }
   ],
   "source": [
    "wrappedenv.seed(1)\n",
    "random.seed(1)\n",
    "np.random.seed(1)\n",
    "wrappedenv.action_space.seed(1)\n",
    "\n",
    "wrappedenv.reset()"
   ]
  },
  {
   "cell_type": "code",
   "execution_count": 18,
   "metadata": {},
   "outputs": [
    {
     "data": {
      "text/plain": [
       "True"
      ]
     },
     "execution_count": 18,
     "metadata": {},
     "output_type": "execute_result"
    }
   ],
   "source": [
    "wrappedenv.render()"
   ]
  },
  {
   "cell_type": "code",
   "execution_count": 19,
   "metadata": {},
   "outputs": [
    {
     "name": "stdout",
     "output_type": "stream",
     "text": [
      "DEBUG: end of step ---\n",
      "DEBUG: self.past_actions:deque([[0.1], array([-1.2525009], dtype=float32), array([-1.2355274], dtype=float32), array([0.05800029], dtype=float32)], maxlen=4)\n",
      "DEBUG: self.past_observations:deque([(array([-0.35283079,  0.93568715,  0.02900014]), 0.0, False, {}, 0), (array([-0.35283079,  0.93568715,  0.02900014]), 0.0, False, {}, 0)], maxlen=2)\n",
      "DEBUG: self.arrival_times_actions:deque([0, 0], maxlen=2)\n",
      "DEBUG: self.arrival_times_observations:deque([0, -1], maxlen=2)\n",
      "DEBUG: self.t:0\n",
      "DEBUG: ---\n"
     ]
    },
    {
     "data": {
      "text/plain": [
       "((array([-0.35283079,  0.93568715,  0.02900014]),\n",
       "  ([0.1],\n",
       "   array([-1.2525009], dtype=float32),\n",
       "   array([-1.2355274], dtype=float32)),\n",
       "  0,\n",
       "  0),\n",
       " 0,\n",
       " False,\n",
       " {})"
      ]
     },
     "execution_count": 19,
     "metadata": {},
     "output_type": "execute_result"
    }
   ],
   "source": [
    "wrappedenv.step([0.1])"
   ]
  },
  {
   "cell_type": "code",
   "execution_count": 20,
   "metadata": {},
   "outputs": [
    {
     "data": {
      "text/plain": [
       "True"
      ]
     },
     "execution_count": 20,
     "metadata": {},
     "output_type": "execute_result"
    }
   ],
   "source": [
    "wrappedenv.render()"
   ]
  },
  {
   "cell_type": "code",
   "execution_count": 21,
   "metadata": {},
   "outputs": [
    {
     "name": "stdout",
     "output_type": "stream",
     "text": [
      "DEBUG: end of step ---\n",
      "DEBUG: self.past_actions:deque([[0.2], [0.1], array([-1.2525009], dtype=float32), array([-1.2355274], dtype=float32)], maxlen=4)\n",
      "DEBUG: self.past_observations:deque([(array([-0.35283079,  0.93568715,  0.02900014]), 0.0, False, {}, 0), (array([-0.35283079,  0.93568715,  0.02900014]), 0.0, False, {}, 0)], maxlen=2)\n",
      "DEBUG: self.arrival_times_actions:deque([1, 0], maxlen=2)\n",
      "DEBUG: self.arrival_times_observations:deque([0, -1], maxlen=2)\n",
      "DEBUG: self.t:1\n",
      "DEBUG: ---\n"
     ]
    },
    {
     "data": {
      "text/plain": [
       "((array([-0.35283079,  0.93568715,  0.02900014]),\n",
       "  ([0.2], [0.1], array([-1.2525009], dtype=float32)),\n",
       "  0,\n",
       "  0),\n",
       " 0,\n",
       " False,\n",
       " {})"
      ]
     },
     "execution_count": 21,
     "metadata": {},
     "output_type": "execute_result"
    }
   ],
   "source": [
    "wrappedenv.step([0.2])"
   ]
  },
  {
   "cell_type": "code",
   "execution_count": 22,
   "metadata": {},
   "outputs": [
    {
     "data": {
      "text/plain": [
       "True"
      ]
     },
     "execution_count": 22,
     "metadata": {},
     "output_type": "execute_result"
    }
   ],
   "source": [
    "wrappedenv.render()"
   ]
  },
  {
   "cell_type": "code",
   "execution_count": 23,
   "metadata": {},
   "outputs": [
    {
     "name": "stdout",
     "output_type": "stream",
     "text": [
      "DEBUG: end of step ---\n",
      "DEBUG: self.past_actions:deque([[0.3], [0.2], [0.1], array([-1.2525009], dtype=float32)], maxlen=4)\n",
      "DEBUG: self.past_observations:deque([(array([-0.3881589 ,  0.92159246,  0.7607655 ]), -3.730395563558637, False, {}, 1), (array([-0.35283079,  0.93568715,  0.02900014]), 0.0, False, {}, 0)], maxlen=2)\n",
      "DEBUG: self.arrival_times_actions:deque([3, 1], maxlen=2)\n",
      "DEBUG: self.arrival_times_observations:deque([2, 0], maxlen=2)\n",
      "DEBUG: self.t:2\n",
      "DEBUG: ---\n"
     ]
    },
    {
     "data": {
      "text/plain": [
       "((array([-0.3881589 ,  0.92159246,  0.7607655 ]), ([0.3], [0.2], [0.1]), 0, 1),\n",
       " -3.730395563558637,\n",
       " False,\n",
       " {})"
      ]
     },
     "execution_count": 23,
     "metadata": {},
     "output_type": "execute_result"
    }
   ],
   "source": [
    "wrappedenv.step([0.3])"
   ]
  },
  {
   "cell_type": "code",
   "execution_count": 24,
   "metadata": {},
   "outputs": [
    {
     "data": {
      "text/plain": [
       "True"
      ]
     },
     "execution_count": 24,
     "metadata": {},
     "output_type": "execute_result"
    }
   ],
   "source": [
    "wrappedenv.render()"
   ]
  },
  {
   "cell_type": "code",
   "execution_count": 25,
   "metadata": {},
   "outputs": [
    {
     "name": "stdout",
     "output_type": "stream",
     "text": [
      "DEBUG: end of step ---\n",
      "DEBUG: self.past_actions:deque([[0.4], [0.3], [0.2], [0.1]], maxlen=4)\n",
      "DEBUG: self.past_observations:deque([(array([-0.45531948,  0.89032813,  1.48195985]), -3.9365683580757325, False, {}, 1), (array([-0.3881589 ,  0.92159246,  0.7607655 ]), -3.730395563558637, False, {}, 1)], maxlen=2)\n",
      "DEBUG: self.arrival_times_actions:deque([4, 3], maxlen=2)\n",
      "DEBUG: self.arrival_times_observations:deque([4, 2], maxlen=2)\n",
      "DEBUG: self.t:3\n",
      "DEBUG: ---\n"
     ]
    },
    {
     "data": {
      "text/plain": [
       "((array([-0.3881589 ,  0.92159246,  0.7607655 ]), ([0.4], [0.3], [0.2]), 1, 1),\n",
       " -3.9365683580757325,\n",
       " False,\n",
       " {})"
      ]
     },
     "execution_count": 25,
     "metadata": {},
     "output_type": "execute_result"
    }
   ],
   "source": [
    "wrappedenv.step([0.4])"
   ]
  },
  {
   "cell_type": "code",
   "execution_count": 26,
   "metadata": {},
   "outputs": [
    {
     "data": {
      "text/plain": [
       "True"
      ]
     },
     "execution_count": 26,
     "metadata": {},
     "output_type": "execute_result"
    }
   ],
   "source": [
    "wrappedenv.render()"
   ]
  },
  {
   "cell_type": "code",
   "execution_count": 27,
   "metadata": {},
   "outputs": [
    {
     "name": "stdout",
     "output_type": "stream",
     "text": [
      "DEBUG: end of step ---\n",
      "DEBUG: self.past_actions:deque([[0.5], [0.4], [0.3], [0.2]], maxlen=4)\n",
      "DEBUG: self.past_observations:deque([(array([-0.55008524,  0.83510851,  2.19470595]), -4.395714476362787, False, {}, 0), (array([-0.45531948,  0.89032813,  1.48195985]), -3.9365683580757325, False, {}, 1)], maxlen=2)\n",
      "DEBUG: self.arrival_times_actions:deque([4, 4], maxlen=2)\n",
      "DEBUG: self.arrival_times_observations:deque([5, 4], maxlen=2)\n",
      "DEBUG: self.t:4\n",
      "DEBUG: ---\n"
     ]
    },
    {
     "data": {
      "text/plain": [
       "((array([-0.45531948,  0.89032813,  1.48195985]), ([0.5], [0.4], [0.3]), 1, 1),\n",
       " -4.395714476362787,\n",
       " False,\n",
       " {})"
      ]
     },
     "execution_count": 27,
     "metadata": {},
     "output_type": "execute_result"
    }
   ],
   "source": [
    "wrappedenv.step([0.5])"
   ]
  },
  {
   "cell_type": "code",
   "execution_count": 28,
   "metadata": {},
   "outputs": [
    {
     "data": {
      "text/plain": [
       "True"
      ]
     },
     "execution_count": 28,
     "metadata": {},
     "output_type": "execute_result"
    }
   ],
   "source": [
    "wrappedenv.render()"
   ]
  },
  {
   "cell_type": "markdown",
   "metadata": {},
   "source": [
    "#### Back to RL:"
   ]
  },
  {
   "cell_type": "code",
   "execution_count": 32,
   "metadata": {},
   "outputs": [],
   "source": [
    "wrappedenv = wrappers.UnseenRandomDelayWrapper(env,\n",
    "                                         obs_delay_range=range(0, 2),\n",
    "                                         act_delay_range=range(0, 2),\n",
    "                                         instant_rewards=True,\n",
    "                                         initial_action=None)"
   ]
  },
  {
   "cell_type": "code",
   "execution_count": 33,
   "metadata": {},
   "outputs": [
    {
     "name": "stdout",
     "output_type": "stream",
     "text": [
      "DEBUG: end of reset ---\n",
      "DEBUG: self.past_actions:deque([array([-1.2525009], dtype=float32), array([-1.2355274], dtype=float32), array([0.05800029], dtype=float32), array([1.2295617], dtype=float32)], maxlen=4)\n",
      "DEBUG: self.past_observations:deque([(array([-0.35283079,  0.93568715,  0.02900014]), 0.0, False, {}, 0), (array([-0.35283079,  0.93568715,  0.02900014]), 0.0, False, {}, 0)], maxlen=2)\n",
      "DEBUG: self.arrival_times_actions:deque([0, -1], maxlen=2)\n",
      "DEBUG: self.arrival_times_observations:deque([0, -1], maxlen=2)\n",
      "DEBUG: self.t:0\n",
      "DEBUG: ---\n"
     ]
    },
    {
     "data": {
      "text/plain": [
       "array([-0.35283079,  0.93568715,  0.02900014])"
      ]
     },
     "execution_count": 33,
     "metadata": {},
     "output_type": "execute_result"
    }
   ],
   "source": [
    "wrappedenv.seed(1)\n",
    "random.seed(1)\n",
    "np.random.seed(1)\n",
    "wrappedenv.action_space.seed(1)\n",
    "\n",
    "wrappedenv.reset()"
   ]
  },
  {
   "cell_type": "code",
   "execution_count": 34,
   "metadata": {},
   "outputs": [
    {
     "name": "stdout",
     "output_type": "stream",
     "text": [
      "DEBUG: end of step ---\n",
      "DEBUG: self.past_actions:deque([[0.1], array([-1.2525009], dtype=float32), array([-1.2355274], dtype=float32), array([0.05800029], dtype=float32)], maxlen=4)\n",
      "DEBUG: self.past_observations:deque([(array([-0.35283079,  0.93568715,  0.02900014]), 0.0, False, {}, 0), (array([-0.35283079,  0.93568715,  0.02900014]), 0.0, False, {}, 0)], maxlen=2)\n",
      "DEBUG: self.arrival_times_actions:deque([0, 0], maxlen=2)\n",
      "DEBUG: self.arrival_times_observations:deque([0, -1], maxlen=2)\n",
      "DEBUG: self.t:0\n",
      "DEBUG: ---\n"
     ]
    },
    {
     "data": {
      "text/plain": [
       "(array([-0.35283079,  0.93568715,  0.02900014]), 0, False, {})"
      ]
     },
     "execution_count": 34,
     "metadata": {},
     "output_type": "execute_result"
    }
   ],
   "source": [
    "wrappedenv.step([0.1])"
   ]
  },
  {
   "cell_type": "code",
   "execution_count": 35,
   "metadata": {},
   "outputs": [
    {
     "data": {
      "text/plain": [
       "True"
      ]
     },
     "execution_count": 35,
     "metadata": {},
     "output_type": "execute_result"
    }
   ],
   "source": [
    "wrappedenv.render()"
   ]
  },
  {
   "cell_type": "code",
   "execution_count": 36,
   "metadata": {},
   "outputs": [
    {
     "name": "stdout",
     "output_type": "stream",
     "text": [
      "DEBUG: end of step ---\n",
      "DEBUG: self.past_actions:deque([[0.2], [0.1], array([-1.2525009], dtype=float32), array([-1.2355274], dtype=float32)], maxlen=4)\n",
      "DEBUG: self.past_observations:deque([(array([-0.35283079,  0.93568715,  0.02900014]), 0.0, False, {}, 0), (array([-0.35283079,  0.93568715,  0.02900014]), 0.0, False, {}, 0)], maxlen=2)\n",
      "DEBUG: self.arrival_times_actions:deque([1, 0], maxlen=2)\n",
      "DEBUG: self.arrival_times_observations:deque([0, -1], maxlen=2)\n",
      "DEBUG: self.t:1\n",
      "DEBUG: ---\n"
     ]
    },
    {
     "data": {
      "text/plain": [
       "(array([-0.35283079,  0.93568715,  0.02900014]), 0, False, {})"
      ]
     },
     "execution_count": 36,
     "metadata": {},
     "output_type": "execute_result"
    }
   ],
   "source": [
    "wrappedenv.step([0.2])"
   ]
  },
  {
   "cell_type": "code",
   "execution_count": 37,
   "metadata": {},
   "outputs": [
    {
     "data": {
      "text/plain": [
       "True"
      ]
     },
     "execution_count": 37,
     "metadata": {},
     "output_type": "execute_result"
    }
   ],
   "source": [
    "wrappedenv.render()"
   ]
  },
  {
   "cell_type": "code",
   "execution_count": 38,
   "metadata": {},
   "outputs": [
    {
     "name": "stdout",
     "output_type": "stream",
     "text": [
      "DEBUG: end of step ---\n",
      "DEBUG: self.past_actions:deque([[0.3], [0.2], [0.1], array([-1.2525009], dtype=float32)], maxlen=4)\n",
      "DEBUG: self.past_observations:deque([(array([-0.3881589 ,  0.92159246,  0.7607655 ]), -3.730395563558637, False, {}, 1), (array([-0.35283079,  0.93568715,  0.02900014]), 0.0, False, {}, 0)], maxlen=2)\n",
      "DEBUG: self.arrival_times_actions:deque([3, 1], maxlen=2)\n",
      "DEBUG: self.arrival_times_observations:deque([2, 0], maxlen=2)\n",
      "DEBUG: self.t:2\n",
      "DEBUG: ---\n"
     ]
    },
    {
     "data": {
      "text/plain": [
       "(array([-0.3881589 ,  0.92159246,  0.7607655 ]), -3.730395563558637, False, {})"
      ]
     },
     "execution_count": 38,
     "metadata": {},
     "output_type": "execute_result"
    }
   ],
   "source": [
    "wrappedenv.step([0.3])"
   ]
  },
  {
   "cell_type": "code",
   "execution_count": 39,
   "metadata": {},
   "outputs": [
    {
     "data": {
      "text/plain": [
       "True"
      ]
     },
     "execution_count": 39,
     "metadata": {},
     "output_type": "execute_result"
    }
   ],
   "source": [
    "wrappedenv.render()"
   ]
  },
  {
   "cell_type": "code",
   "execution_count": 40,
   "metadata": {},
   "outputs": [
    {
     "name": "stdout",
     "output_type": "stream",
     "text": [
      "DEBUG: end of step ---\n",
      "DEBUG: self.past_actions:deque([[0.4], [0.3], [0.2], [0.1]], maxlen=4)\n",
      "DEBUG: self.past_observations:deque([(array([-0.45531948,  0.89032813,  1.48195985]), -3.9365683580757325, False, {}, 1), (array([-0.3881589 ,  0.92159246,  0.7607655 ]), -3.730395563558637, False, {}, 1)], maxlen=2)\n",
      "DEBUG: self.arrival_times_actions:deque([4, 3], maxlen=2)\n",
      "DEBUG: self.arrival_times_observations:deque([4, 2], maxlen=2)\n",
      "DEBUG: self.t:3\n",
      "DEBUG: ---\n"
     ]
    },
    {
     "data": {
      "text/plain": [
       "(array([-0.3881589 ,  0.92159246,  0.7607655 ]),\n",
       " -3.9365683580757325,\n",
       " False,\n",
       " {})"
      ]
     },
     "execution_count": 40,
     "metadata": {},
     "output_type": "execute_result"
    }
   ],
   "source": [
    "wrappedenv.step([0.4])"
   ]
  },
  {
   "cell_type": "code",
   "execution_count": 41,
   "metadata": {},
   "outputs": [
    {
     "data": {
      "text/plain": [
       "True"
      ]
     },
     "execution_count": 41,
     "metadata": {},
     "output_type": "execute_result"
    }
   ],
   "source": [
    "wrappedenv.render()"
   ]
  },
  {
   "cell_type": "code",
   "execution_count": 42,
   "metadata": {},
   "outputs": [
    {
     "name": "stdout",
     "output_type": "stream",
     "text": [
      "DEBUG: end of step ---\n",
      "DEBUG: self.past_actions:deque([[0.5], [0.4], [0.3], [0.2]], maxlen=4)\n",
      "DEBUG: self.past_observations:deque([(array([-0.55008524,  0.83510851,  2.19470595]), -4.395714476362787, False, {}, 0), (array([-0.45531948,  0.89032813,  1.48195985]), -3.9365683580757325, False, {}, 1)], maxlen=2)\n",
      "DEBUG: self.arrival_times_actions:deque([4, 4], maxlen=2)\n",
      "DEBUG: self.arrival_times_observations:deque([5, 4], maxlen=2)\n",
      "DEBUG: self.t:4\n",
      "DEBUG: ---\n"
     ]
    },
    {
     "data": {
      "text/plain": [
       "(array([-0.45531948,  0.89032813,  1.48195985]), -4.395714476362787, False, {})"
      ]
     },
     "execution_count": 42,
     "metadata": {},
     "output_type": "execute_result"
    }
   ],
   "source": [
    "wrappedenv.step([0.5])"
   ]
  },
  {
   "cell_type": "code",
   "execution_count": 43,
   "metadata": {},
   "outputs": [
    {
     "data": {
      "text/plain": [
       "True"
      ]
     },
     "execution_count": 43,
     "metadata": {},
     "output_type": "execute_result"
    }
   ],
   "source": [
    "wrappedenv.render()"
   ]
  }
 ],
 "metadata": {
  "kernelspec": {
   "display_name": "Python 3",
   "language": "python",
   "name": "python3"
  },
  "language_info": {
   "codemirror_mode": {
    "name": "ipython",
    "version": 3
   },
   "file_extension": ".py",
   "mimetype": "text/x-python",
   "name": "python",
   "nbconvert_exporter": "python",
   "pygments_lexer": "ipython3",
   "version": "3.7.3"
  }
 },
 "nbformat": 4,
 "nbformat_minor": 2
}
